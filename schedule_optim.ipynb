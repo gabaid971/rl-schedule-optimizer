{
 "cells": [
  {
   "cell_type": "markdown",
   "metadata": {},
   "source": [
    "## Imports"
   ]
  },
  {
   "cell_type": "code",
   "execution_count": 1,
   "metadata": {},
   "outputs": [],
   "source": [
    "import random\n",
    "import pandas as pd\n",
    "from stable_baselines3 import DQN, PPO, A2C\n",
    "from stable_baselines3.common.vec_env import DummyVecEnv\n",
    "from stable_baselines3.common.env_checker import check_env\n",
    "from stable_baselines3.common.monitor import Monitor\n",
    "from stable_baselines3.common.results_plotter import plot_results, load_results\n",
    "from gymnasium.wrappers import NormalizeObservation, NormalizeReward\n",
    "import random\n",
    "from pandas import Timestamp\n",
    "import warnings\n",
    "\n",
    "from flight_scheduling import FlightSchedulingEnv\n",
    "from utils import generate_random_flight_schedule, generate_lambdas\n",
    "\n",
    "warnings.filterwarnings('ignore')\n",
    "%load_ext autoreload\n",
    "%autoreload 2"
   ]
  },
  {
   "cell_type": "markdown",
   "metadata": {},
   "source": [
    "## Generate flight schedule and lambdas"
   ]
  },
  {
   "cell_type": "code",
   "execution_count": 2,
   "metadata": {},
   "outputs": [
    {
     "data": {
      "text/html": [
       "<div>\n",
       "<style scoped>\n",
       "    .dataframe tbody tr th:only-of-type {\n",
       "        vertical-align: middle;\n",
       "    }\n",
       "\n",
       "    .dataframe tbody tr th {\n",
       "        vertical-align: top;\n",
       "    }\n",
       "\n",
       "    .dataframe thead th {\n",
       "        text-align: right;\n",
       "    }\n",
       "</style>\n",
       "<table border=\"1\" class=\"dataframe\">\n",
       "  <thead>\n",
       "    <tr style=\"text-align: right;\">\n",
       "      <th></th>\n",
       "      <th>departure</th>\n",
       "      <th>arrival</th>\n",
       "      <th>way</th>\n",
       "      <th>airport</th>\n",
       "      <th>departure_minutes</th>\n",
       "      <th>arrival_minutes</th>\n",
       "      <th>way_transformed</th>\n",
       "    </tr>\n",
       "  </thead>\n",
       "  <tbody>\n",
       "    <tr>\n",
       "      <th>0</th>\n",
       "      <td>1900-01-01 12:58:00</td>\n",
       "      <td>1900-01-01 14:51:00</td>\n",
       "      <td>-1</td>\n",
       "      <td>MAD</td>\n",
       "      <td>778</td>\n",
       "      <td>891</td>\n",
       "      <td>0</td>\n",
       "    </tr>\n",
       "    <tr>\n",
       "      <th>1</th>\n",
       "      <td>1900-01-01 13:22:00</td>\n",
       "      <td>1900-01-01 14:37:00</td>\n",
       "      <td>1</td>\n",
       "      <td>FCO</td>\n",
       "      <td>802</td>\n",
       "      <td>877</td>\n",
       "      <td>1</td>\n",
       "    </tr>\n",
       "  </tbody>\n",
       "</table>\n",
       "</div>"
      ],
      "text/plain": [
       "            departure             arrival  way airport  departure_minutes  \\\n",
       "0 1900-01-01 12:58:00 1900-01-01 14:51:00   -1     MAD                778   \n",
       "1 1900-01-01 13:22:00 1900-01-01 14:37:00    1     FCO                802   \n",
       "\n",
       "   arrival_minutes  way_transformed  \n",
       "0              891                0  \n",
       "1              877                1  "
      ]
     },
     "execution_count": 2,
     "metadata": {},
     "output_type": "execute_result"
    }
   ],
   "source": [
    "random_schedule = generate_random_flight_schedule(2)\n",
    "random_schedule"
   ]
  },
  {
   "cell_type": "code",
   "execution_count": 3,
   "metadata": {},
   "outputs": [
    {
     "data": {
      "text/html": [
       "<div>\n",
       "<style scoped>\n",
       "    .dataframe tbody tr th:only-of-type {\n",
       "        vertical-align: middle;\n",
       "    }\n",
       "\n",
       "    .dataframe tbody tr th {\n",
       "        vertical-align: top;\n",
       "    }\n",
       "\n",
       "    .dataframe thead th {\n",
       "        text-align: right;\n",
       "    }\n",
       "</style>\n",
       "<table border=\"1\" class=\"dataframe\">\n",
       "  <thead>\n",
       "    <tr style=\"text-align: right;\">\n",
       "      <th></th>\n",
       "      <th>departure</th>\n",
       "      <th>arrival</th>\n",
       "      <th>way</th>\n",
       "      <th>airport</th>\n",
       "      <th>departure_minutes</th>\n",
       "      <th>arrival_minutes</th>\n",
       "      <th>way_transformed</th>\n",
       "    </tr>\n",
       "  </thead>\n",
       "  <tbody>\n",
       "    <tr>\n",
       "      <th>0</th>\n",
       "      <td>1900-01-01 08:00:00</td>\n",
       "      <td>1900-01-01 10:00:00</td>\n",
       "      <td>-1</td>\n",
       "      <td>JFK</td>\n",
       "      <td>480</td>\n",
       "      <td>600</td>\n",
       "      <td>0</td>\n",
       "    </tr>\n",
       "    <tr>\n",
       "      <th>1</th>\n",
       "      <td>1900-01-01 13:30:00</td>\n",
       "      <td>1900-01-01 14:30:00</td>\n",
       "      <td>1</td>\n",
       "      <td>MAD</td>\n",
       "      <td>910</td>\n",
       "      <td>970</td>\n",
       "      <td>1</td>\n",
       "    </tr>\n",
       "  </tbody>\n",
       "</table>\n",
       "</div>"
      ],
      "text/plain": [
       "            departure             arrival  way airport  departure_minutes  \\\n",
       "0 1900-01-01 08:00:00 1900-01-01 10:00:00   -1     JFK                480   \n",
       "1 1900-01-01 13:30:00 1900-01-01 14:30:00    1     MAD                910   \n",
       "\n",
       "   arrival_minutes  way_transformed  \n",
       "0              600                0  \n",
       "1              970                1  "
      ]
     },
     "execution_count": 3,
     "metadata": {},
     "output_type": "execute_result"
    }
   ],
   "source": [
    "schedule_0 = pd.DataFrame({\n",
    "    'departure' : [Timestamp('1900-01-01 08:00:00'), Timestamp('1900-01-01 13:30:00')],\n",
    "    'arrival' : [Timestamp('1900-01-01 10:00:00'), Timestamp('1900-01-01 14:30:00')],\n",
    "    'way' : [-1, 1],\n",
    "    'airport' : ['JFK', 'MAD'],\n",
    "    'departure_minutes' : [480, 910],\n",
    "    'arrival_minutes' : [600, 970],\n",
    "    'way_transformed' : [0, 1]\n",
    "})\n",
    "schedule_0 "
   ]
  },
  {
   "cell_type": "code",
   "execution_count": 4,
   "metadata": {},
   "outputs": [
    {
     "data": {
      "text/plain": [
       "{'JFKMAD': 1000, 'MADJFK': 1000}"
      ]
     },
     "execution_count": 4,
     "metadata": {},
     "output_type": "execute_result"
    }
   ],
   "source": [
    "lambdas = generate_lambdas(schedule_0)\n",
    "lambdas = {'JFKMAD': 1000, 'MADJFK': 1000}\n",
    "lambdas"
   ]
  },
  {
   "cell_type": "markdown",
   "metadata": {},
   "source": [
    "## Custom environment"
   ]
  },
  {
   "cell_type": "code",
   "execution_count": 23,
   "metadata": {},
   "outputs": [],
   "source": [
    "env = FlightSchedulingEnv(\n",
    "    flight_schedule=schedule_0, \n",
    "    lambdas=lambdas, \n",
    "    max_steps=1000,\n",
    "    revenue_estimation='basic'\n",
    ")\n",
    "env = NormalizeObservation(env)\n",
    "env = NormalizeReward(env)"
   ]
  },
  {
   "cell_type": "markdown",
   "metadata": {},
   "source": [
    "## Random Policy"
   ]
  },
  {
   "cell_type": "code",
   "execution_count": 28,
   "metadata": {},
   "outputs": [
    {
     "name": "stdout",
     "output_type": "stream",
     "text": [
      "1\n",
      "Observation: [-0.51001334] Reward: 0.2693628214671298\n",
      "4\n",
      "Observation: [-0.50316808] Reward: 0.0\n",
      "3\n",
      "Observation: [0.07288058] Reward: 0.26487638399618896\n",
      "2\n",
      "Observation: [-0.50344911] Reward: -0.2626103857435954\n",
      "4\n",
      "Observation: [-0.49713077] Reward: 0.0\n",
      "3\n",
      "Observation: [0.09377179] Reward: 0.26132193188027114\n",
      "2\n",
      "Observation: [-0.49782595] Reward: -0.26047240591652715\n",
      "2\n",
      "Observation: [-1.0772197] Reward: -0.25831721151046455\n",
      "3\n",
      "Observation: [-0.47081697] Reward: 0.2582274137455481\n",
      "0\n",
      "Observation: [0.13329051] Reward: -0.25696027196752197\n"
     ]
    }
   ],
   "source": [
    "obs = env.reset()\n",
    "\n",
    "for _ in range(10):\n",
    "    action = env.action_space.sample()\n",
    "    obs, reward, done, truncated, _ = env.step(action)\n",
    "    print(action)\n",
    "    print(\"Observation:\", obs, \"Reward:\", reward)\n",
    "\n",
    "env.close()"
   ]
  },
  {
   "cell_type": "markdown",
   "metadata": {},
   "source": [
    "## RL Policy"
   ]
  },
  {
   "cell_type": "code",
   "execution_count": 58,
   "metadata": {},
   "outputs": [],
   "source": [
    "env = FlightSchedulingEnv(\n",
    "    flight_schedule=schedule_0, \n",
    "    lambdas=lambdas, \n",
    "    max_steps=1000,\n",
    "    revenue_estimation='basic'\n",
    ")\n",
    "env = NormalizeObservation(env)\n",
    "#env = NormalizeReward(env)\n",
    "\n",
    "check_env(env)"
   ]
  },
  {
   "cell_type": "code",
   "execution_count": 61,
   "metadata": {},
   "outputs": [],
   "source": [
    "model = PPO(\"MlpPolicy\", env).learn(total_timesteps=100000)"
   ]
  },
  {
   "cell_type": "code",
   "execution_count": 63,
   "metadata": {},
   "outputs": [
    {
     "name": "stdout",
     "output_type": "stream",
     "text": [
      "2600.0\n",
      "2600.0\n",
      "2600.0\n",
      "2600.0\n",
      "2600.0\n",
      "2600.0\n",
      "2600.0\n",
      "2600.0\n",
      "2600.0\n",
      "2600.0\n"
     ]
    }
   ],
   "source": [
    "for _ in range(10):\n",
    "    obs, _ = env.reset()\n",
    "    total_reward = 0\n",
    "    done = False\n",
    "    while not done:\n",
    "        action, _ = model.predict(obs)\n",
    "        #action = 0\n",
    "        obs, reward, done, _, _ = env.step(action)\n",
    "        #print('action : ', action)\n",
    "        #print('obs : ', obs)\n",
    "        #print('reward : ', reward)\n",
    "        total_reward += reward\n",
    "    print(total_reward)\n",
    "env.close()"
   ]
  },
  {
   "cell_type": "markdown",
   "metadata": {},
   "source": [
    "## Revenue estimation"
   ]
  },
  {
   "cell_type": "code",
   "execution_count": 64,
   "metadata": {},
   "outputs": [],
   "source": [
    "env = FlightSchedulingEnv(\n",
    "    flight_schedule=schedule_0,\n",
    "    lambdas=lambdas,\n",
    "    max_steps=100,\n",
    "    revenue_estimation='classic'\n",
    ")\n",
    "env = NormalizeObservation(env)\n",
    "#env = NormalizeReward(env)"
   ]
  },
  {
   "cell_type": "code",
   "execution_count": 67,
   "metadata": {},
   "outputs": [],
   "source": [
    "model = PPO(\"MlpPolicy\", env).learn(total_timesteps=100000)"
   ]
  },
  {
   "cell_type": "code",
   "execution_count": 68,
   "metadata": {},
   "outputs": [
    {
     "name": "stdout",
     "output_type": "stream",
     "text": [
      "250.0\n",
      "250.0\n",
      "250.0\n",
      "250.0\n",
      "250.0\n",
      "250.0\n",
      "250.0\n",
      "222.22222222222217\n",
      "250.0\n",
      "222.22222222222217\n"
     ]
    }
   ],
   "source": [
    "for _ in range(10):\n",
    "    obs, _ = env.reset()\n",
    "    total_reward = 0\n",
    "    done = False\n",
    "    count = 0\n",
    "    while not done:\n",
    "        action, _ = model.predict(obs)\n",
    "        '''if count < 9:\n",
    "            action = 1\n",
    "            count += 1\n",
    "        else:\n",
    "            action = 4\n",
    "            count += 1'''\n",
    "        obs, reward, done, _, _ = env.step(action)\n",
    "        #print('action : ', action)\n",
    "        #print('obs : ', obs)\n",
    "        #print('reward : ', reward)\n",
    "        total_reward += reward\n",
    "    print(total_reward)\n",
    "env.close()"
   ]
  },
  {
   "cell_type": "code",
   "execution_count": 23,
   "metadata": {},
   "outputs": [
    {
     "name": "stdout",
     "output_type": "stream",
     "text": [
      "Using cpu device\n",
      "Wrapping the env with a `Monitor` wrapper\n",
      "Wrapping the env in a DummyVecEnv.\n",
      "Logging to Training\\Logs\\PPO_2\n",
      "---------------------------------\n",
      "| rollout/           |          |\n",
      "|    ep_len_mean     | 1e+03    |\n",
      "|    ep_rew_mean     | -312     |\n",
      "| time/              |          |\n",
      "|    fps             | 2008     |\n",
      "|    iterations      | 1        |\n",
      "|    time_elapsed    | 1        |\n",
      "|    total_timesteps | 2048     |\n",
      "---------------------------------\n"
     ]
    },
    {
     "data": {
      "text/plain": [
       "(-736.1110916137695, 0.0)"
      ]
     },
     "execution_count": 23,
     "metadata": {},
     "output_type": "execute_result"
    }
   ],
   "source": [
    "from stable_baselines3.common.evaluation import evaluate_policy\n",
    "import os\n",
    "log_path = os.path.join('Training', 'Logs')\n",
    "model = PPO(\"MlpPolicy\", env, verbose=1, tensorboard_log=log_path)\n",
    "model.learn(total_timesteps=100)\n",
    "evaluate_policy(model, env, n_eval_episodes=10, render=True)"
   ]
  }
 ],
 "metadata": {
  "kernelspec": {
   "display_name": "Python 3",
   "language": "python",
   "name": "python3"
  },
  "language_info": {
   "codemirror_mode": {
    "name": "ipython",
    "version": 3
   },
   "file_extension": ".py",
   "mimetype": "text/x-python",
   "name": "python",
   "nbconvert_exporter": "python",
   "pygments_lexer": "ipython3",
   "version": "3.10.11"
  }
 },
 "nbformat": 4,
 "nbformat_minor": 2
}
