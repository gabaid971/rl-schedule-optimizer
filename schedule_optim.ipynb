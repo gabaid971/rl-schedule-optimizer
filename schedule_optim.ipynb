{
 "cells": [
  {
   "cell_type": "markdown",
   "metadata": {},
   "source": [
    "## Imports"
   ]
  },
  {
   "cell_type": "code",
   "execution_count": 1,
   "metadata": {},
   "outputs": [],
   "source": [
    "import random\n",
    "import pandas as pd\n",
    "from stable_baselines3 import DQN, PPO, A2C\n",
    "from stable_baselines3.common.vec_env import DummyVecEnv\n",
    "from stable_baselines3.common.env_checker import check_env\n",
    "from stable_baselines3.common.monitor import Monitor\n",
    "from stable_baselines3.common.results_plotter import plot_results, load_results\n",
    "from gymnasium.wrappers import NormalizeObservation, NormalizeReward\n",
    "import random\n",
    "from pandas import Timestamp\n",
    "import warnings\n",
    "\n",
    "from flight_scheduling import FlightSchedulingEnv\n",
    "from utils import generate_random_flight_schedule, generate_lambdas\n",
    "\n",
    "warnings.filterwarnings('ignore')\n",
    "%load_ext autoreload\n",
    "%autoreload 2"
   ]
  },
  {
   "cell_type": "markdown",
   "metadata": {},
   "source": [
    "## Generate flight schedule and lambdas"
   ]
  },
  {
   "cell_type": "code",
   "execution_count": 49,
   "metadata": {},
   "outputs": [
    {
     "data": {
      "text/html": [
       "<div>\n",
       "<style scoped>\n",
       "    .dataframe tbody tr th:only-of-type {\n",
       "        vertical-align: middle;\n",
       "    }\n",
       "\n",
       "    .dataframe tbody tr th {\n",
       "        vertical-align: top;\n",
       "    }\n",
       "\n",
       "    .dataframe thead th {\n",
       "        text-align: right;\n",
       "    }\n",
       "</style>\n",
       "<table border=\"1\" class=\"dataframe\">\n",
       "  <thead>\n",
       "    <tr style=\"text-align: right;\">\n",
       "      <th></th>\n",
       "      <th>departure</th>\n",
       "      <th>arrival</th>\n",
       "      <th>way</th>\n",
       "      <th>airport</th>\n",
       "      <th>departure_minutes</th>\n",
       "      <th>arrival_minutes</th>\n",
       "    </tr>\n",
       "  </thead>\n",
       "  <tbody>\n",
       "    <tr>\n",
       "      <th>0</th>\n",
       "      <td>1900-01-01 09:14:00</td>\n",
       "      <td>1900-01-01 10:27:00</td>\n",
       "      <td>-1</td>\n",
       "      <td>MAD</td>\n",
       "      <td>554</td>\n",
       "      <td>627</td>\n",
       "    </tr>\n",
       "    <tr>\n",
       "      <th>1</th>\n",
       "      <td>1900-01-01 09:49:00</td>\n",
       "      <td>1900-01-01 12:03:00</td>\n",
       "      <td>-1</td>\n",
       "      <td>JFK</td>\n",
       "      <td>589</td>\n",
       "      <td>723</td>\n",
       "    </tr>\n",
       "  </tbody>\n",
       "</table>\n",
       "</div>"
      ],
      "text/plain": [
       "            departure             arrival  way airport  departure_minutes  \\\n",
       "0 1900-01-01 09:14:00 1900-01-01 10:27:00   -1     MAD                554   \n",
       "1 1900-01-01 09:49:00 1900-01-01 12:03:00   -1     JFK                589   \n",
       "\n",
       "   arrival_minutes  \n",
       "0              627  \n",
       "1              723  "
      ]
     },
     "execution_count": 49,
     "metadata": {},
     "output_type": "execute_result"
    }
   ],
   "source": [
    "random_schedule = generate_random_flight_schedule(2)\n",
    "random_schedule"
   ]
  },
  {
   "cell_type": "code",
   "execution_count": 3,
   "metadata": {},
   "outputs": [
    {
     "data": {
      "text/html": [
       "<div>\n",
       "<style scoped>\n",
       "    .dataframe tbody tr th:only-of-type {\n",
       "        vertical-align: middle;\n",
       "    }\n",
       "\n",
       "    .dataframe tbody tr th {\n",
       "        vertical-align: top;\n",
       "    }\n",
       "\n",
       "    .dataframe thead th {\n",
       "        text-align: right;\n",
       "    }\n",
       "</style>\n",
       "<table border=\"1\" class=\"dataframe\">\n",
       "  <thead>\n",
       "    <tr style=\"text-align: right;\">\n",
       "      <th></th>\n",
       "      <th>departure</th>\n",
       "      <th>arrival</th>\n",
       "      <th>way</th>\n",
       "      <th>airport</th>\n",
       "      <th>departure_minutes</th>\n",
       "      <th>arrival_minutes</th>\n",
       "      <th>way_transformed</th>\n",
       "    </tr>\n",
       "  </thead>\n",
       "  <tbody>\n",
       "    <tr>\n",
       "      <th>0</th>\n",
       "      <td>1900-01-01 08:00:00</td>\n",
       "      <td>1900-01-01 10:00:00</td>\n",
       "      <td>-1</td>\n",
       "      <td>JFK</td>\n",
       "      <td>480</td>\n",
       "      <td>600</td>\n",
       "      <td>0</td>\n",
       "    </tr>\n",
       "    <tr>\n",
       "      <th>1</th>\n",
       "      <td>1900-01-01 13:30:00</td>\n",
       "      <td>1900-01-01 14:30:00</td>\n",
       "      <td>1</td>\n",
       "      <td>MAD</td>\n",
       "      <td>910</td>\n",
       "      <td>970</td>\n",
       "      <td>1</td>\n",
       "    </tr>\n",
       "  </tbody>\n",
       "</table>\n",
       "</div>"
      ],
      "text/plain": [
       "            departure             arrival  way airport  departure_minutes  \\\n",
       "0 1900-01-01 08:00:00 1900-01-01 10:00:00   -1     JFK                480   \n",
       "1 1900-01-01 13:30:00 1900-01-01 14:30:00    1     MAD                910   \n",
       "\n",
       "   arrival_minutes  way_transformed  \n",
       "0              600                0  \n",
       "1              970                1  "
      ]
     },
     "execution_count": 3,
     "metadata": {},
     "output_type": "execute_result"
    }
   ],
   "source": [
    "schedule_0 = pd.DataFrame({\n",
    "    'departure' : [Timestamp('1900-01-01 08:00:00'), Timestamp('1900-01-01 13:30:00')],\n",
    "    'arrival' : [Timestamp('1900-01-01 10:00:00'), Timestamp('1900-01-01 14:30:00')],\n",
    "    'way' : [-1, 1],\n",
    "    'airport' : ['JFK', 'MAD'],\n",
    "    'departure_minutes' : [480, 910],\n",
    "    'arrival_minutes' : [600, 970],\n",
    "})\n",
    "schedule_0 "
   ]
  },
  {
   "cell_type": "code",
   "execution_count": 4,
   "metadata": {},
   "outputs": [
    {
     "data": {
      "text/plain": [
       "{'JFKMAD': 1000, 'MADJFK': 1000}"
      ]
     },
     "execution_count": 4,
     "metadata": {},
     "output_type": "execute_result"
    }
   ],
   "source": [
    "lambdas = generate_lambdas(schedule_0)\n",
    "lambdas = {'JFKMAD': 1000, 'MADJFK': 1000}\n",
    "lambdas"
   ]
  },
  {
   "cell_type": "markdown",
   "metadata": {},
   "source": [
    "## Custom environment"
   ]
  },
  {
   "cell_type": "code",
   "execution_count": 6,
   "metadata": {},
   "outputs": [],
   "source": [
    "env = FlightSchedulingEnv(\n",
    "    flight_schedule=schedule_0, \n",
    "    lambdas=lambdas, \n",
    "    max_steps=1000,\n",
    "    revenue_estimation='basic'\n",
    ")\n",
    "env = NormalizeObservation(env)\n",
    "#env = NormalizeReward(env)"
   ]
  },
  {
   "cell_type": "markdown",
   "metadata": {},
   "source": [
    "## Random Policy"
   ]
  },
  {
   "cell_type": "code",
   "execution_count": 7,
   "metadata": {},
   "outputs": [
    {
     "name": "stdout",
     "output_type": "stream",
     "text": [
      "4\n",
      "Observation: [0.00707103] Reward: 0.0\n",
      "3\n",
      "Observation: [1.38947339] Reward: 20.0\n",
      "4\n",
      "Observation: [0.98824311] Reward: 0.0\n",
      "3\n",
      "Observation: [1.59646272] Reward: 20.0\n",
      "4\n",
      "Observation: [1.22094393] Reward: 0.0\n",
      "4\n",
      "Observation: [1.02636198] Reward: 0.0\n",
      "3\n",
      "Observation: [1.63511522] Reward: 20.0\n",
      "4\n",
      "Observation: [1.35360445] Reward: 0.0\n",
      "3\n",
      "Observation: [1.75986964] Reward: 20.0\n",
      "0\n",
      "Observation: [1.93210602] Reward: -20.0\n"
     ]
    }
   ],
   "source": [
    "obs = env.reset()\n",
    "\n",
    "for _ in range(10):\n",
    "    action = env.action_space.sample()\n",
    "    obs, reward, done, truncated, _ = env.step(action)\n",
    "    print(action)\n",
    "    print(\"Observation:\", obs, \"Reward:\", reward)\n",
    "\n",
    "env.close()"
   ]
  },
  {
   "cell_type": "markdown",
   "metadata": {},
   "source": [
    "## RL Policy"
   ]
  },
  {
   "cell_type": "code",
   "execution_count": 8,
   "metadata": {},
   "outputs": [],
   "source": [
    "env = FlightSchedulingEnv(\n",
    "    flight_schedule=schedule_0, \n",
    "    lambdas=lambdas, \n",
    "    max_steps=1000,\n",
    "    revenue_estimation='basic'\n",
    ")\n",
    "env = NormalizeObservation(env)\n",
    "#env = NormalizeReward(env)\n",
    "\n",
    "check_env(env)"
   ]
  },
  {
   "cell_type": "code",
   "execution_count": 61,
   "metadata": {},
   "outputs": [],
   "source": [
    "model = PPO(\"MlpPolicy\", env).learn(total_timesteps=100000)"
   ]
  },
  {
   "cell_type": "code",
   "execution_count": 63,
   "metadata": {},
   "outputs": [
    {
     "name": "stdout",
     "output_type": "stream",
     "text": [
      "2600.0\n",
      "2600.0\n",
      "2600.0\n",
      "2600.0\n",
      "2600.0\n",
      "2600.0\n",
      "2600.0\n",
      "2600.0\n",
      "2600.0\n",
      "2600.0\n"
     ]
    }
   ],
   "source": [
    "for _ in range(10):\n",
    "    obs, _ = env.reset()\n",
    "    total_reward = 0\n",
    "    done = False\n",
    "    while not done:\n",
    "        action, _ = model.predict(obs)\n",
    "        #action = 0\n",
    "        obs, reward, done, _, _ = env.step(action)\n",
    "        #print('action : ', action)\n",
    "        #print('obs : ', obs)\n",
    "        #print('reward : ', reward)\n",
    "        total_reward += reward\n",
    "    print(total_reward)\n",
    "env.close()"
   ]
  },
  {
   "cell_type": "markdown",
   "metadata": {},
   "source": [
    "## Revenue estimation"
   ]
  },
  {
   "cell_type": "code",
   "execution_count": 2,
   "metadata": {},
   "outputs": [
    {
     "ename": "NameError",
     "evalue": "name 'schedule_0' is not defined",
     "output_type": "error",
     "traceback": [
      "\u001b[1;31m---------------------------------------------------------------------------\u001b[0m",
      "\u001b[1;31mNameError\u001b[0m                                 Traceback (most recent call last)",
      "Cell \u001b[1;32mIn[2], line 2\u001b[0m\n\u001b[0;32m      1\u001b[0m env \u001b[38;5;241m=\u001b[39m FlightSchedulingEnv(\n\u001b[1;32m----> 2\u001b[0m     flight_schedule\u001b[38;5;241m=\u001b[39m\u001b[43mschedule_0\u001b[49m,\n\u001b[0;32m      3\u001b[0m     lambdas\u001b[38;5;241m=\u001b[39mlambdas,\n\u001b[0;32m      4\u001b[0m     max_steps\u001b[38;5;241m=\u001b[39m\u001b[38;5;241m100\u001b[39m,\n\u001b[0;32m      5\u001b[0m     revenue_estimation\u001b[38;5;241m=\u001b[39m\u001b[38;5;124m'\u001b[39m\u001b[38;5;124mclassic\u001b[39m\u001b[38;5;124m'\u001b[39m\n\u001b[0;32m      6\u001b[0m )\n\u001b[0;32m      7\u001b[0m env \u001b[38;5;241m=\u001b[39m NormalizeObservation(env)\n\u001b[0;32m      8\u001b[0m \u001b[38;5;66;03m#env = NormalizeReward(env)\u001b[39;00m\n",
      "\u001b[1;31mNameError\u001b[0m: name 'schedule_0' is not defined"
     ]
    }
   ],
   "source": [
    "env = FlightSchedulingEnv(\n",
    "    flight_schedule=schedule_0,\n",
    "    lambdas=lambdas,\n",
    "    max_steps=100,\n",
    "    revenue_estimation='classic'\n",
    ")\n",
    "env = NormalizeObservation(env)\n",
    "#env = NormalizeReward(env)"
   ]
  },
  {
   "cell_type": "code",
   "execution_count": 67,
   "metadata": {},
   "outputs": [],
   "source": [
    "model = PPO(\"MlpPolicy\", env).learn(total_timesteps=100000)"
   ]
  },
  {
   "cell_type": "code",
   "execution_count": 68,
   "metadata": {},
   "outputs": [
    {
     "name": "stdout",
     "output_type": "stream",
     "text": [
      "250.0\n",
      "250.0\n",
      "250.0\n",
      "250.0\n",
      "250.0\n",
      "250.0\n",
      "250.0\n",
      "222.22222222222217\n",
      "250.0\n",
      "222.22222222222217\n"
     ]
    }
   ],
   "source": [
    "for _ in range(10):\n",
    "    obs, _ = env.reset()\n",
    "    total_reward = 0\n",
    "    done = False\n",
    "    count = 0\n",
    "    while not done:\n",
    "        action, _ = model.predict(obs)\n",
    "        '''if count < 9:\n",
    "            action = 1\n",
    "            count += 1\n",
    "        else:\n",
    "            action = 4\n",
    "            count += 1'''\n",
    "        obs, reward, done, _, _ = env.step(action)\n",
    "        #print('action : ', action)\n",
    "        #print('obs : ', obs)\n",
    "        #print('reward : ', reward)\n",
    "        total_reward += reward\n",
    "    print(total_reward)\n",
    "env.close()"
   ]
  },
  {
   "cell_type": "code",
   "execution_count": 23,
   "metadata": {},
   "outputs": [
    {
     "name": "stdout",
     "output_type": "stream",
     "text": [
      "Using cpu device\n",
      "Wrapping the env with a `Monitor` wrapper\n",
      "Wrapping the env in a DummyVecEnv.\n",
      "Logging to Training\\Logs\\PPO_2\n",
      "---------------------------------\n",
      "| rollout/           |          |\n",
      "|    ep_len_mean     | 1e+03    |\n",
      "|    ep_rew_mean     | -312     |\n",
      "| time/              |          |\n",
      "|    fps             | 2008     |\n",
      "|    iterations      | 1        |\n",
      "|    time_elapsed    | 1        |\n",
      "|    total_timesteps | 2048     |\n",
      "---------------------------------\n"
     ]
    },
    {
     "data": {
      "text/plain": [
       "(-736.1110916137695, 0.0)"
      ]
     },
     "execution_count": 23,
     "metadata": {},
     "output_type": "execute_result"
    }
   ],
   "source": [
    "from stable_baselines3.common.evaluation import evaluate_policy\n",
    "import os\n",
    "log_path = os.path.join('Training', 'Logs')\n",
    "model = PPO(\"MlpPolicy\", env, verbose=1, tensorboard_log=log_path)\n",
    "model.learn(total_timesteps=100)\n",
    "evaluate_policy(model, env, n_eval_episodes=10, render=True)"
   ]
  },
  {
   "cell_type": "markdown",
   "metadata": {},
   "source": [
    "# Random schedule"
   ]
  },
  {
   "cell_type": "code",
   "execution_count": 3,
   "metadata": {},
   "outputs": [
    {
     "data": {
      "text/html": [
       "<div>\n",
       "<style scoped>\n",
       "    .dataframe tbody tr th:only-of-type {\n",
       "        vertical-align: middle;\n",
       "    }\n",
       "\n",
       "    .dataframe tbody tr th {\n",
       "        vertical-align: top;\n",
       "    }\n",
       "\n",
       "    .dataframe thead th {\n",
       "        text-align: right;\n",
       "    }\n",
       "</style>\n",
       "<table border=\"1\" class=\"dataframe\">\n",
       "  <thead>\n",
       "    <tr style=\"text-align: right;\">\n",
       "      <th></th>\n",
       "      <th>departure</th>\n",
       "      <th>arrival</th>\n",
       "      <th>way</th>\n",
       "      <th>airport</th>\n",
       "      <th>departure_minutes</th>\n",
       "      <th>arrival_minutes</th>\n",
       "    </tr>\n",
       "  </thead>\n",
       "  <tbody>\n",
       "    <tr>\n",
       "      <th>0</th>\n",
       "      <td>1900-01-01 09:47:00</td>\n",
       "      <td>1900-01-01 10:54:00</td>\n",
       "      <td>-1</td>\n",
       "      <td>FCO</td>\n",
       "      <td>587</td>\n",
       "      <td>654</td>\n",
       "    </tr>\n",
       "    <tr>\n",
       "      <th>1</th>\n",
       "      <td>1900-01-01 12:29:00</td>\n",
       "      <td>1900-01-01 13:23:00</td>\n",
       "      <td>-1</td>\n",
       "      <td>MAD</td>\n",
       "      <td>749</td>\n",
       "      <td>803</td>\n",
       "    </tr>\n",
       "    <tr>\n",
       "      <th>2</th>\n",
       "      <td>1900-01-01 13:34:00</td>\n",
       "      <td>1900-01-01 15:32:00</td>\n",
       "      <td>-1</td>\n",
       "      <td>MAD</td>\n",
       "      <td>814</td>\n",
       "      <td>932</td>\n",
       "    </tr>\n",
       "    <tr>\n",
       "      <th>3</th>\n",
       "      <td>1900-01-01 14:46:00</td>\n",
       "      <td>1900-01-01 16:01:00</td>\n",
       "      <td>1</td>\n",
       "      <td>FCO</td>\n",
       "      <td>886</td>\n",
       "      <td>961</td>\n",
       "    </tr>\n",
       "    <tr>\n",
       "      <th>4</th>\n",
       "      <td>1900-01-01 14:55:00</td>\n",
       "      <td>1900-01-01 15:42:00</td>\n",
       "      <td>1</td>\n",
       "      <td>FCO</td>\n",
       "      <td>895</td>\n",
       "      <td>942</td>\n",
       "    </tr>\n",
       "    <tr>\n",
       "      <th>5</th>\n",
       "      <td>1900-01-01 15:22:00</td>\n",
       "      <td>1900-01-01 16:51:00</td>\n",
       "      <td>1</td>\n",
       "      <td>MAD</td>\n",
       "      <td>922</td>\n",
       "      <td>1011</td>\n",
       "    </tr>\n",
       "    <tr>\n",
       "      <th>6</th>\n",
       "      <td>1900-01-01 18:56:00</td>\n",
       "      <td>1900-01-01 21:16:00</td>\n",
       "      <td>1</td>\n",
       "      <td>JFK</td>\n",
       "      <td>1136</td>\n",
       "      <td>1276</td>\n",
       "    </tr>\n",
       "    <tr>\n",
       "      <th>7</th>\n",
       "      <td>1900-01-01 19:29:00</td>\n",
       "      <td>1900-01-01 20:34:00</td>\n",
       "      <td>1</td>\n",
       "      <td>FCO</td>\n",
       "      <td>1169</td>\n",
       "      <td>1234</td>\n",
       "    </tr>\n",
       "    <tr>\n",
       "      <th>8</th>\n",
       "      <td>1900-01-01 21:13:00</td>\n",
       "      <td>1900-01-01 23:27:00</td>\n",
       "      <td>1</td>\n",
       "      <td>JFK</td>\n",
       "      <td>1273</td>\n",
       "      <td>1407</td>\n",
       "    </tr>\n",
       "    <tr>\n",
       "      <th>9</th>\n",
       "      <td>1900-01-01 21:37:00</td>\n",
       "      <td>1900-01-01 23:20:00</td>\n",
       "      <td>-1</td>\n",
       "      <td>FCO</td>\n",
       "      <td>1297</td>\n",
       "      <td>1400</td>\n",
       "    </tr>\n",
       "  </tbody>\n",
       "</table>\n",
       "</div>"
      ],
      "text/plain": [
       "            departure             arrival  way airport  departure_minutes  \\\n",
       "0 1900-01-01 09:47:00 1900-01-01 10:54:00   -1     FCO                587   \n",
       "1 1900-01-01 12:29:00 1900-01-01 13:23:00   -1     MAD                749   \n",
       "2 1900-01-01 13:34:00 1900-01-01 15:32:00   -1     MAD                814   \n",
       "3 1900-01-01 14:46:00 1900-01-01 16:01:00    1     FCO                886   \n",
       "4 1900-01-01 14:55:00 1900-01-01 15:42:00    1     FCO                895   \n",
       "5 1900-01-01 15:22:00 1900-01-01 16:51:00    1     MAD                922   \n",
       "6 1900-01-01 18:56:00 1900-01-01 21:16:00    1     JFK               1136   \n",
       "7 1900-01-01 19:29:00 1900-01-01 20:34:00    1     FCO               1169   \n",
       "8 1900-01-01 21:13:00 1900-01-01 23:27:00    1     JFK               1273   \n",
       "9 1900-01-01 21:37:00 1900-01-01 23:20:00   -1     FCO               1297   \n",
       "\n",
       "   arrival_minutes  \n",
       "0              654  \n",
       "1              803  \n",
       "2              932  \n",
       "3              961  \n",
       "4              942  \n",
       "5             1011  \n",
       "6             1276  \n",
       "7             1234  \n",
       "8             1407  \n",
       "9             1400  "
      ]
     },
     "execution_count": 3,
     "metadata": {},
     "output_type": "execute_result"
    }
   ],
   "source": [
    "random_schedule = generate_random_flight_schedule(10)\n",
    "random_schedule"
   ]
  },
  {
   "cell_type": "code",
   "execution_count": 4,
   "metadata": {},
   "outputs": [
    {
     "data": {
      "text/plain": [
       "{'FCOMAD': 1000,\n",
       " 'MADFCO': 1000,\n",
       " 'FCOJFK': 1000,\n",
       " 'JFKFCO': 1000,\n",
       " 'MADJFK': 1000,\n",
       " 'JFKMAD': 1000}"
      ]
     },
     "execution_count": 4,
     "metadata": {},
     "output_type": "execute_result"
    }
   ],
   "source": [
    "random_lambdas = generate_lambdas(random_schedule)\n",
    "random_lambdas"
   ]
  },
  {
   "cell_type": "code",
   "execution_count": 16,
   "metadata": {},
   "outputs": [],
   "source": [
    "env = FlightSchedulingEnv(\n",
    "    flight_schedule=random_schedule,\n",
    "    lambdas=random_lambdas,\n",
    "    max_steps=1000,\n",
    "    revenue_estimation='classic'\n",
    ")\n",
    "env = NormalizeObservation(env)\n",
    "#env = NormalizeReward(env)"
   ]
  },
  {
   "cell_type": "code",
   "execution_count": 23,
   "metadata": {},
   "outputs": [],
   "source": [
    "model = PPO(\"MlpPolicy\", env).learn(total_timesteps=300000)"
   ]
  },
  {
   "cell_type": "code",
   "execution_count": 24,
   "metadata": {},
   "outputs": [
    {
     "data": {
      "image/png": "[encoded data removed]",
      "text/plain": [
       "<Figure size 1000x500 with 1 Axes>"
      ]
     },
     "metadata": {},
     "output_type": "display_data"
    },
    {
     "name": "stdout",
     "output_type": "stream",
     "text": [
      "5273.611111111111\n"
     ]
    },
    {
     "data": {
      "image/png": "[encoded data removed]",
      "text/plain": [
       "<Figure size 1000x500 with 1 Axes>"
      ]
     },
     "metadata": {},
     "output_type": "display_data"
    },
    {
     "name": "stdout",
     "output_type": "stream",
     "text": [
      "4776.388888888887\n"
     ]
    },
    {
     "data": {
      "image/png": "[encoded data removed]",
      "text/plain": [
       "<Figure size 1000x500 with 1 Axes>"
      ]
     },
     "metadata": {},
     "output_type": "display_data"
    },
    {
     "name": "stdout",
     "output_type": "stream",
     "text": [
      "5384.722222222221\n"
     ]
    },
    {
     "data": {
      "image/png": "[encoded data removed]",
      "text/plain": [
       "<Figure size 1000x500 with 1 Axes>"
      ]
     },
     "metadata": {},
     "output_type": "display_data"
    },
    {
     "name": "stdout",
     "output_type": "stream",
     "text": [
      "5662.499999999996\n"
     ]
    }
   ],
   "source": [
    "for _ in range(4):\n",
    "    obs, _ = env.reset()\n",
    "    #env.renderer()\n",
    "    total_reward = 0\n",
    "    done = False\n",
    "    count = 0\n",
    "    while not done:\n",
    "        action, _ = model.predict(obs)\n",
    "        obs, reward, done, _, _ = env.step(action)\n",
    "        #print('action : ', action)\n",
    "        #print('obs : ', obs)\n",
    "        #print('reward : ', reward)\n",
    "        total_reward += reward\n",
    "    env.renderer(init=True)\n",
    "    print(total_reward)\n",
    "env.close()"
   ]
  }
 ],
 "metadata": {
  "kernelspec": {
   "display_name": "Python 3",
   "language": "python",
   "name": "python3"
  },
  "language_info": {
   "codemirror_mode": {
    "name": "ipython",
    "version": 3
   },
   "file_extension": ".py",
   "mimetype": "text/x-python",
   "name": "python",
   "nbconvert_exporter": "python",
   "pygments_lexer": "ipython3",
   "version": "3.10.11"
  }
 },
 "nbformat": 4,
 "nbformat_minor": 2
}
